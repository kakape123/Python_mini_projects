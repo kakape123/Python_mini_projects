{
 "cells": [
  {
   "cell_type": "code",
   "execution_count": 10,
   "id": "af3d31a9-3484-4402-b8eb-e78973d0c9f6",
   "metadata": {},
   "outputs": [
    {
     "name": "stdout",
     "output_type": "stream",
     "text": [
      "\n",
      "\n",
      "\n",
      "\n",
      "\n",
      "\n",
      "# #####   ###    #   #   #####\n",
      "# # ###   # ## ### ## ## # ###\n",
      "###  ## ##   #  # # #     #  #\n",
      " ##  # #### #   #   # ###    #\n",
      "#     ### ##     #  #     ####\n",
      " ###   ##   # # #     ## ### #\n",
      "# ##  ### #  #        ##  #  #\n",
      "### #####   # ## #  ## #  #   \n",
      "### ### # ##    ### #   # ### \n",
      "## ###  # #### # #   #   #   #\n",
      "\n",
      "\n",
      "\n",
      "\n",
      "\n",
      "\n",
      "               # #       #    \n",
      "             # #    # ##      \n",
      "                  # #     #   \n",
      "  #  #    ###   ##     # # #  \n",
      "          #  # # #    #  ### #\n",
      "  ##        #        #####    \n",
      "            #                 \n",
      "    #   #  ####### # # #  #   \n",
      "        # #            ##   # \n",
      "             #   #  #   ##    \n",
      "\n",
      "\n",
      "\n",
      "\n",
      "\n",
      "\n",
      "                     #   #    \n",
      "              # #  # #        \n",
      "           ######## #  #  #   \n",
      "           ##   ###     ## ## \n",
      "          # ##   #    #  # ## \n",
      "           # #       #####    \n",
      "   #       ##       #  # #    \n",
      "         # ######     #       \n",
      "         # # # #  #   ####    \n",
      "                #      # #    \n",
      "\n",
      "\n",
      "\n",
      "\n",
      "\n",
      "\n",
      "               #    # # #     \n",
      "             ## ## ####       \n",
      "           ## #   # #     #   \n",
      "                   #   ### ## \n",
      "          #  #  ###   #  # ## \n",
      "          ## #       # # #    \n",
      "           #  #          #    \n",
      "           # # ##    ##       \n",
      "           # #  ##    ##      \n",
      "                       # ##   \n",
      "\n",
      "\n",
      "\n",
      "\n",
      "\n",
      "\n",
      "               #    # # ##    \n",
      "             ## ##  # ##      \n",
      "            # ## ##   #   #   \n",
      "           ##    ###   ### ## \n",
      "            #    ##   ## # ## \n",
      "          ## #   #    #       \n",
      "           #  #       # #     \n",
      "          #    ##    ##       \n",
      "              ####   # ##     \n",
      "                #    ## ##    \n",
      "\n",
      "\n",
      "\n",
      "\n",
      "\n",
      "\n",
      "               ##     #  #    \n",
      "             ##  # #  # ##    \n",
      "            # ##   # ## # #   \n",
      "           ##      #  ## # ## \n",
      "                ## #  #  # ## \n",
      "          ## #   ##  ##       \n",
      "          ### #      ##       \n",
      "              # #    #        \n",
      "              #  #  ##  #     \n",
      "              #  #    #  #    \n",
      "\n",
      "\n",
      "\n",
      "\n",
      "\n",
      "\n",
      "              ### #  #  ###   \n",
      "             ##   # ### #     \n",
      "            # ##     ##   #   \n",
      "           ### #      #  # ## \n",
      "           #    ## #### #  ## \n",
      "          ####  ### ####      \n",
      "          # #  # #  ##        \n",
      "           #        ##        \n",
      "             #  #   ##        \n",
      "              ####     ##     \n",
      "\n",
      "\n",
      "\n",
      "\n",
      "\n",
      "\n",
      "             #     # ## #     \n",
      "                ## ## # #     \n",
      "            #  #    # #   #   \n",
      "           # # ##   # #  # ## \n",
      "          #  ########   # ### \n",
      "          # ##         #      \n",
      "          #  #   ##           \n",
      "           ##      #  #       \n",
      "               ##   ###       \n",
      "             ##     # ####    \n",
      "\n",
      "\n",
      "\n",
      "\n",
      "\n",
      "\n",
      "             ##   ##  # #     \n",
      "                # ### #  #    \n",
      "            # ## #  #     #   \n",
      "           # #   #  #  # #  # \n",
      "             #   #####  ### # \n",
      "         #  ## #           #  \n",
      "          #  #    #           \n",
      "           ##    ### #        \n",
      "            #  #   ## #       \n",
      "              ##        ##    \n",
      "\n",
      "\n",
      "\n",
      "\n",
      "\n",
      "\n",
      "             ##  ### #  ##    \n",
      "              ####  #  # #    \n",
      "            # ## #  #   # #   \n",
      "             #   #  ##  ###   \n",
      "             #  ######  ##### \n",
      "            ##   ## #    ###  \n",
      "          ## ##   #           \n",
      "           ###   # ###        \n",
      "           ###  #  ###        \n",
      "             ###   ###   #    \n",
      "\n",
      "\n",
      "\n",
      "\n",
      "\n",
      "\n",
      "                 #   ##  ##   \n",
      "                 #  ## #      \n",
      "             #   ##### ## #   \n",
      "            ## # #   # ##     \n",
      "            ### #           # \n",
      "             ## #   ##  #   # \n",
      "          ##  #  #  #     #   \n",
      "                 # # #        \n",
      "           #    #     #       \n",
      "               ##    ##       \n",
      "\n",
      "\n",
      "\n",
      "\n",
      "\n",
      "\n",
      "                    #         \n",
      "                ## #   ##     \n",
      "              #  # # # ###    \n",
      "            #  ### # # ###    \n",
      "                ##    ##      \n",
      "              # #    #     #  \n",
      "             #### #  #        \n",
      "          #      ## ##        \n",
      "                ##  ###       \n",
      "               ##    ###      \n",
      "\n",
      "\n",
      "\n",
      "\n",
      "\n",
      "\n",
      "               ##   ## #      \n",
      "                #     ###     \n",
      "               # #       #    \n",
      "               # #   #   #    \n",
      "                  # #  #      \n",
      "              # #             \n",
      "             ## #  ####       \n",
      "              #   # # #       \n",
      "                # ##          \n",
      "               ###  #  #      \n",
      "\n",
      "\n",
      "\n",
      "\n",
      "\n",
      "\n",
      "                    ## ##     \n",
      "               #     ####     \n",
      "                      ##      \n",
      "                 #      #     \n",
      "               # #            \n",
      "                 # ###        \n",
      "             ##  # ##         \n",
      "             ##   #   #       \n",
      "               ## #  #        \n",
      "               #  # # #       \n",
      "\n",
      "\n",
      "\n",
      "\n",
      "\n",
      "\n",
      "                   ##   #     \n",
      "                    #         \n",
      "                     #  #     \n",
      "                #      #      \n",
      "                              \n",
      "                   ###        \n",
      "             ##  #            \n",
      "             # #  # #         \n",
      "               ##    #        \n",
      "               ###  # #       \n",
      "\n",
      "\n",
      "\n",
      "\n",
      "\n",
      "\n",
      "                #  ##         \n",
      "                   ##         \n",
      "                              \n",
      "                              \n",
      "                              \n",
      "                    #         \n",
      "              #     ##        \n",
      "             # ###            \n",
      "               # # # #        \n",
      "               # #  #         \n",
      "\n",
      "\n",
      "\n",
      "\n",
      "\n",
      "\n",
      "                # ####        \n",
      "                   ##         \n",
      "                              \n",
      "                              \n",
      "                              \n",
      "                              \n",
      "              #     ##        \n",
      "               #  #           \n",
      "               # #            \n",
      "               # # ###        \n",
      "\n",
      "\n",
      "\n",
      "\n",
      "\n",
      "\n",
      "                ##            \n",
      "                  #  #        \n",
      "                              \n",
      "                              \n",
      "                              \n",
      "                              \n",
      "                              \n",
      "              # #             \n",
      "              #               \n",
      "               # # # #        \n",
      "\n",
      "\n",
      "\n",
      "\n",
      "\n",
      "\n",
      "                ### #         \n",
      "                 #            \n",
      "                              \n",
      "                              \n",
      "                              \n",
      "                              \n",
      "                              \n",
      "               #              \n",
      "              ###             \n",
      "               ## #           \n",
      "\n",
      "\n",
      "\n",
      "\n",
      "\n",
      "\n",
      "               #  ##          \n",
      "                ###           \n",
      "                              \n",
      "                              \n",
      "                              \n",
      "                              \n",
      "                              \n",
      "               #              \n",
      "              # ##            \n",
      "              #    #          \n",
      "\n",
      "\n",
      "\n",
      "\n",
      "\n",
      "\n",
      "               # ###          \n",
      "                ####          \n",
      "                 #            \n",
      "                              \n",
      "                              \n",
      "                              \n",
      "                              \n",
      "               #              \n",
      "                #             \n",
      "              #####           \n"
     ]
    },
    {
     "ename": "KeyboardInterrupt",
     "evalue": "",
     "output_type": "error",
     "traceback": [
      "\u001b[1;31m---------------------------------------------------------------------------\u001b[0m",
      "\u001b[1;31mKeyboardInterrupt\u001b[0m                         Traceback (most recent call last)",
      "Cell \u001b[1;32mIn[10], line 61\u001b[0m\n\u001b[0;32m     58\u001b[0m         \u001b[38;5;66;03m# everything else become or stays dead\u001b[39;00m\n\u001b[0;32m     59\u001b[0m     \u001b[38;5;28;01melse\u001b[39;00m:\n\u001b[0;32m     60\u001b[0m         nextCell[x][y] \u001b[38;5;241m=\u001b[39m \u001b[38;5;124m'\u001b[39m\u001b[38;5;124m \u001b[39m\u001b[38;5;124m'\u001b[39m\n\u001b[1;32m---> 61\u001b[0m time\u001b[38;5;241m.\u001b[39msleep(\u001b[38;5;241m0.1\u001b[39m)\n",
      "\u001b[1;31mKeyboardInterrupt\u001b[0m: "
     ]
    }
   ],
   "source": [
    "# Conway's Game of Life\n",
    "import random, sys, time\n",
    "width = 30\n",
    "height =10\n",
    "# create a list of lists for the cells\n",
    "nextCell = []\n",
    "for x in range(width):\n",
    "    column = []  # create a new column\n",
    "    for y in range(height):\n",
    "        if random.randint(0, 1) == 0:\n",
    "            column.append('#')  # add a living cell\n",
    "        else:\n",
    "            column.append(' ')  # add a dead cell\n",
    "    nextCell.append(column)    # nextcell is a list of column lists\n",
    "while True:   # the main loop\n",
    "    print('\\n\\n\\n\\n\\n')    # separate each step with a newline\n",
    "    currentCells = copy.deepcopy(nextCell)\n",
    "    # print the current cell on the screen \n",
    "    for y in range(height):\n",
    "        for x in range(width):\n",
    "            print(currentCells[x][y], end='')  # print # or space\n",
    "        print()\n",
    "    # calculate the next step's cell based on the current step's cell\n",
    "    for x in range(width):\n",
    "        for y in range(height):\n",
    "            # get the neighbouring coordinates\n",
    "            leftcoord = (x - 1) % width\n",
    "            rightcoord = (x + 1) % width\n",
    "            abovecoord = (y - 1) % height\n",
    "            belowcoord = (y + 1) % height\n",
    "\n",
    "            # count the number of living cell\n",
    "            numNeighbours = 0\n",
    "            if currentCells[leftcoord][abovecoord] == '#':\n",
    "                numNeighbours += 1\n",
    "            if currentCells[x][abovecoord] == '#':\n",
    "                numNeighbours += 1\n",
    "            if currentCells[rightcoord][abovecoord] == '#':\n",
    "                numNeighbours += 1\n",
    "            if currentCells[leftcoord][y] == '#':\n",
    "                numNeighbours += 1\n",
    "            if currentCells[rightcoord][y] == '#':\n",
    "                numNeighbours += 1\n",
    "            if currentCells[rightcoord][belowcoord] == '#':\n",
    "                numNeighbours += 1\n",
    "            if currentCells[y][belowcoord] == '#':\n",
    "                numNeighbours += 1\n",
    "            if currentCells[leftcoord][belowcoord] == '#':\n",
    "                numNeighbours += 1\n",
    "\n",
    "            # set the cell based on conway's game of life rules\n",
    "            if currentCells[x][y] == '#' and (numNeighbours == 2 or numNeighbours == 3):\n",
    "                # living cells with 2 or 3 neighbours stay alive\n",
    "                nextCell[x][y] = '#'\n",
    "                # dead cell with 3 alive neighbours become alive\n",
    "            elif currentCells[x][y] == ' ' and (numNeighbours == 3):\n",
    "                nextCell[x][y] = '#'\n",
    "                # everything else become or stays dead\n",
    "            else:\n",
    "                nextCell[x][y] = ' '\n",
    "        time.sleep(0.1)  #add a 1-second pause to reduce flickering"
   ]
  },
  {
   "cell_type": "code",
   "execution_count": 52,
   "id": "1dfe64e6-6bed-49d5-b26c-923caf57e2bc",
   "metadata": {},
   "outputs": [
    {
     "name": "stdin",
     "output_type": "stream",
     "text": [
      "Enter the name of the person prince\n"
     ]
    },
    {
     "name": "stdout",
     "output_type": "stream",
     "text": [
      "The name Prince is not in the database\n"
     ]
    },
    {
     "name": "stdin",
     "output_type": "stream",
     "text": [
      "Enter the date of birth of Prince july 7\n"
     ]
    },
    {
     "name": "stdout",
     "output_type": "stream",
     "text": [
      "Database apdated\n"
     ]
    },
    {
     "name": "stdin",
     "output_type": "stream",
     "text": [
      "Enter the name of the person prince\n"
     ]
    },
    {
     "name": "stdout",
     "output_type": "stream",
     "text": [
      "The birthday of Prince is July 7\n"
     ]
    }
   ],
   "source": [
    "birthdays = {'Alice': 'Apri 1', 'Bob': 'Dec 12', 'Carol': 'Jun2'}\n",
    "while True:\n",
    "    name = input('Enter the name of the person').title()\n",
    "    if name in birthdays.keys():\n",
    "        print(f'The birthday of {name} is {birthdays[name]}')\n",
    "        break\n",
    "    else:\n",
    "        print(f'The name {name} is not in the database')\n",
    "        date = input(f'Enter the date of birth of {name}').title()\n",
    "        birthdays[name] = date\n",
    "        print('Database apdated')"
   ]
  },
  {
   "cell_type": "code",
   "execution_count": 50,
   "id": "f1e4d773-b378-41fc-bb42-b2d1b0d781a4",
   "metadata": {},
   "outputs": [
    {
     "name": "stdout",
     "output_type": "stream",
     "text": [
      "apples, bananas, tofu, cats, and rabbit "
     ]
    }
   ],
   "source": [
    "spam = ['apples', 'bananas', 'tofu', 'cats', 'rabbit']\n",
    "x = []\n",
    "def func(n):\n",
    "    length = len(n)   #  find the length of the array\n",
    "    if length != 0:   # check to see if the array is empty or not\n",
    "        n.insert(-1, 'and')\n",
    "    length = len(n)\n",
    "    for i in range(length):\n",
    "        if n[i] == 'and' or i == (length - 1):\n",
    "            print(n[i], end=' ')\n",
    "        else:\n",
    "            print(n[i], end=', ')\n",
    "func(spam)"
   ]
  },
  {
   "cell_type": "code",
   "execution_count": null,
   "id": "93d1d675-173b-43ae-b598-3b03622d0f08",
   "metadata": {},
   "outputs": [],
   "source": [
    "spam"
   ]
  },
  {
   "cell_type": "code",
   "execution_count": 62,
   "id": "b91438a9-ac45-4e27-8598-b8844b5ae0c7",
   "metadata": {},
   "outputs": [
    {
     "name": "stdout",
     "output_type": "stream",
     "text": [
      "{' ': 13,\n",
      " ',': 1,\n",
      " 'A': 1,\n",
      " 'I': 1,\n",
      " 'a': 4,\n",
      " 'b': 1,\n",
      " 'c': 3,\n",
      " 'd': 3,\n",
      " 'e': 5,\n",
      " 'g': 2,\n",
      " 'h': 3,\n",
      " 'i': 6,\n",
      " 'k': 2,\n",
      " 'l': 3,\n",
      " 'n': 4,\n",
      " 'o': 2,\n",
      " 'p': 1,\n",
      " 'r': 5,\n",
      " 's': 3,\n",
      " 't': 6,\n",
      " 'w': 2,\n",
      " 'y': 1}\n"
     ]
    }
   ],
   "source": [
    "# Counting the number of letters in a passage\n",
    "import pprint\n",
    "message = 'It was a bright cold day in April, and the clocks were striking thirteen'\n",
    "count = dict()\n",
    "for char in message:\n",
    "    count.setdefault(char, 0)\n",
    "    count[char] = count[char] + 1\n",
    "print(pprint.pformat(count))"
   ]
  },
  {
   "cell_type": "code",
   "execution_count": 75,
   "id": "82cddb9f-b372-4fb4-95d9-24c289cff871",
   "metadata": {},
   "outputs": [
    {
     "name": "stdout",
     "output_type": "stream",
     "text": [
      "\n",
      "      |    |  \n",
      "    +-+-+-+-+-+\n",
      "      |    |  \n",
      "    +-+-+-+-+-+\n",
      "      |    |  \n",
      "    \n"
     ]
    },
    {
     "name": "stdin",
     "output_type": "stream",
     "text": [
      "Turn for X, Move on which space mid-M\n"
     ]
    },
    {
     "name": "stdout",
     "output_type": "stream",
     "text": [
      "\n",
      "      |    |  \n",
      "    +-+-+-+-+-+\n",
      "      |  X  |  \n",
      "    +-+-+-+-+-+\n",
      "      |    |  \n",
      "    \n"
     ]
    },
    {
     "name": "stdin",
     "output_type": "stream",
     "text": [
      "Turn for O, Move on which space top-L\n"
     ]
    },
    {
     "name": "stdout",
     "output_type": "stream",
     "text": [
      "\n",
      "    O  |    |  \n",
      "    +-+-+-+-+-+\n",
      "      |  X  |  \n",
      "    +-+-+-+-+-+\n",
      "      |    |  \n",
      "    \n"
     ]
    },
    {
     "name": "stdin",
     "output_type": "stream",
     "text": [
      "Turn for X, Move on which space mid-L\n"
     ]
    },
    {
     "name": "stdout",
     "output_type": "stream",
     "text": [
      "\n",
      "    O  |    |  \n",
      "    +-+-+-+-+-+\n",
      "    X  |  X  |  \n",
      "    +-+-+-+-+-+\n",
      "      |    |  \n",
      "    \n"
     ]
    },
    {
     "name": "stdin",
     "output_type": "stream",
     "text": [
      "Turn for O, Move on which space mid-R\n"
     ]
    },
    {
     "name": "stdout",
     "output_type": "stream",
     "text": [
      "\n",
      "    O  |    |  \n",
      "    +-+-+-+-+-+\n",
      "    X  |  X  |  O\n",
      "    +-+-+-+-+-+\n",
      "      |    |  \n",
      "    \n"
     ]
    },
    {
     "name": "stdin",
     "output_type": "stream",
     "text": [
      "Turn for X, Move on which space low-L\n"
     ]
    },
    {
     "name": "stdout",
     "output_type": "stream",
     "text": [
      "\n",
      "    O  |    |  \n",
      "    +-+-+-+-+-+\n",
      "    X  |  X  |  O\n",
      "    +-+-+-+-+-+\n",
      "    X  |    |  \n",
      "    \n"
     ]
    },
    {
     "name": "stdin",
     "output_type": "stream",
     "text": [
      "Turn for O, Move on which space top-R\n"
     ]
    },
    {
     "name": "stdout",
     "output_type": "stream",
     "text": [
      "\n",
      "    O  |    |  O\n",
      "    +-+-+-+-+-+\n",
      "    X  |  X  |  O\n",
      "    +-+-+-+-+-+\n",
      "    X  |    |  \n",
      "    \n"
     ]
    },
    {
     "name": "stdin",
     "output_type": "stream",
     "text": [
      "Turn for X, Move on which space low-R\n"
     ]
    },
    {
     "name": "stdout",
     "output_type": "stream",
     "text": [
      "\n",
      "    O  |    |  O\n",
      "    +-+-+-+-+-+\n",
      "    X  |  X  |  O\n",
      "    +-+-+-+-+-+\n",
      "    X  |    |  X\n",
      "    \n"
     ]
    },
    {
     "name": "stdin",
     "output_type": "stream",
     "text": [
      "Turn for O, Move on which space top-M\n"
     ]
    },
    {
     "name": "stdout",
     "output_type": "stream",
     "text": [
      "\n",
      "    O  |  O  |  O\n",
      "    +-+-+-+-+-+\n",
      "    X  |  X  |  O\n",
      "    +-+-+-+-+-+\n",
      "    X  |    |  X\n",
      "    \n"
     ]
    },
    {
     "name": "stdin",
     "output_type": "stream",
     "text": [
      "Turn for X, Move on which space low-M\n"
     ]
    },
    {
     "name": "stdout",
     "output_type": "stream",
     "text": [
      "\n",
      "    O  |  O  |  O\n",
      "    +-+-+-+-+-+\n",
      "    X  |  X  |  O\n",
      "    +-+-+-+-+-+\n",
      "    X  |  X  |  X\n",
      "    \n"
     ]
    }
   ],
   "source": [
    "# tic-tac-toe game\n",
    "theBoard = {\n",
    "    'top-L': '', 'top-M': '', 'top-R': '',\n",
    "    'mid-L': '', 'mid-M': '', 'mid-R': '',\n",
    "    'low-L': '', 'low-M': '', 'low-R': '',\n",
    "}\n",
    "def printBoard(board):\n",
    "    print(f'''\n",
    "    {board['top-L']}  |  {board['top-M']}  |  {board['top-R']}\n",
    "    +-+-+-+-+-+-+-+\n",
    "    {board['mid-L']}  |  {board['mid-M']}  |  {board['mid-R']}\n",
    "    +-+-+-+-+-+-+-+\n",
    "    {board['low-L']}  |  {board['low-M']}  |  {board['low-R']}\n",
    "    ''')\n",
    "turn = 'X'\n",
    "printBoard(theBoard)\n",
    "for i in range(9):\n",
    "    move = input(f'Turn for {turn}, Move on which space')\n",
    "    theBoard[move] = turn\n",
    "    if turn == 'X':\n",
    "        turn = 'O'\n",
    "    else:\n",
    "        turn = 'X'\n",
    "    printBoard(theBoard)"
   ]
  },
  {
   "cell_type": "code",
   "execution_count": 79,
   "id": "9d1d88e9-57f5-4e75-bb93-9655314315b3",
   "metadata": {},
   "outputs": [
    {
     "data": {
      "text/plain": [
       "7"
      ]
     },
     "execution_count": 79,
     "metadata": {},
     "output_type": "execute_result"
    }
   ],
   "source": [
    "allQuest = {\n",
    "    'Alice': {'apples': 5, 'prezels': 12},\n",
    "    'Bob': {'ham sandwiches': 3, 'apples': 2},\n",
    "    'Carol': {'cups': 4, 'apple pies': 1}\n",
    "}\n",
    "def totalBought(guests,item):\n",
    "    numBought = 0\n",
    "    for k, v in guests.items():\n",
    "        numBought = numBought + v.get(item, 0)\n",
    "    return numBought\n",
    "\n",
    "totalBought(allQuest, 'apples')"
   ]
  },
  {
   "cell_type": "code",
   "execution_count": 81,
   "id": "7f995b40-0625-4fdd-a19e-e6c73d5cd017",
   "metadata": {},
   "outputs": [
    {
     "name": "stdout",
     "output_type": "stream",
     "text": [
      "Inventory\n",
      "1 rope\n",
      "6 torch\n",
      "42 gold coin\n",
      "1 dagger\n",
      "12 arrow\n",
      "total items 62\n"
     ]
    }
   ],
   "source": [
    "# Inventory\n",
    "stuff = {'rope': 1, 'torch': 6, 'gold coin': 42, 'dagger': 1, 'arrow': 12}\n",
    "def disdplayInventory(inventory):\n",
    "    print('Inventory')\n",
    "    items_total = 0\n",
    "    for k, v in inventory.items():\n",
    "        items_total += v\n",
    "        print(f'{v} {k}')\n",
    "    print(f'total items {items_total}')\n",
    "disdplayInventory(stuff)"
   ]
  },
  {
   "cell_type": "code",
   "execution_count": 85,
   "id": "08ae4f16-997e-42bf-bc7b-b83f2e809d54",
   "metadata": {},
   "outputs": [
    {
     "name": "stdout",
     "output_type": "stream",
     "text": [
      "{'gold coin': 45, 'rope': 2, 'dagger': 1}\n"
     ]
    }
   ],
   "source": [
    "# apdating inventory with a list of items\n",
    "'''def addToInventory(inventory, addItems):\n",
    "    temp = dict()\n",
    "    for i in addItems:\n",
    "        temp.setdefault(i, 0)\n",
    "        temp[i] = temp[i] + 1'''\n",
    "inv = {'gold coin': 42, 'rope': 1}\n",
    "addItems = ['gold coin', 'dagger', 'gold coin', 'gold coin', 'rope']\n",
    "for i in addItems:\n",
    "    inv.setdefault(i, 0)\n",
    "    inv[i] = inv[i] + 1\n",
    "print(inv)"
   ]
  },
  {
   "cell_type": "code",
   "execution_count": null,
   "id": "f4cbc7d2-3c87-4870-9f5c-a662968207ca",
   "metadata": {},
   "outputs": [],
   "source": []
  }
 ],
 "metadata": {
  "kernelspec": {
   "display_name": "Python 3 (ipykernel)",
   "language": "python",
   "name": "python3"
  },
  "language_info": {
   "codemirror_mode": {
    "name": "ipython",
    "version": 3
   },
   "file_extension": ".py",
   "mimetype": "text/x-python",
   "name": "python",
   "nbconvert_exporter": "python",
   "pygments_lexer": "ipython3",
   "version": "3.11.7"
  }
 },
 "nbformat": 4,
 "nbformat_minor": 5
}
